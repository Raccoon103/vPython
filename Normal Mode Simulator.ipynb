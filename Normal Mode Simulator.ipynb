{
 "cells": [
  {
   "cell_type": "code",
   "execution_count": 1,
   "metadata": {
    "scrolled": false
   },
   "outputs": [
    {
     "data": {
      "text/html": [
       "<div id=\"glowscript\" class=\"glowscript\"></div>"
      ],
      "text/plain": [
       "<IPython.core.display.HTML object>"
      ]
     },
     "metadata": {},
     "output_type": "display_data"
    },
    {
     "data": {
      "application/javascript": [
       "if (typeof Jupyter !== \"undefined\") { window.__context = { glowscript_container: $(\"#glowscript\").removeAttr(\"id\")};}else{ element.textContent = ' ';}"
      ],
      "text/plain": [
       "<IPython.core.display.Javascript object>"
      ]
     },
     "metadata": {},
     "output_type": "display_data"
    },
    {
     "data": {
      "text/html": [
       "<div id=\"glowscript\" class=\"glowscript\"></div>"
      ],
      "text/plain": [
       "<IPython.core.display.HTML object>"
      ]
     },
     "metadata": {},
     "output_type": "display_data"
    },
    {
     "data": {
      "application/javascript": [
       "if (typeof Jupyter !== \"undefined\") { window.__context = { glowscript_container: $(\"#glowscript\").removeAttr(\"id\")};}else{ element.textContent = ' ';}"
      ],
      "text/plain": [
       "<IPython.core.display.Javascript object>"
      ]
     },
     "metadata": {},
     "output_type": "display_data"
    },
    {
     "data": {
      "application/javascript": [
       "if (typeof Jupyter !== \"undefined\") {require.undef(\"nbextensions/vpython_libraries/glow.min\");}else{element.textContent = ' ';}"
      ],
      "text/plain": [
       "<IPython.core.display.Javascript object>"
      ]
     },
     "metadata": {},
     "output_type": "display_data"
    },
    {
     "data": {
      "application/javascript": [
       "if (typeof Jupyter !== \"undefined\") {require.undef(\"nbextensions/vpython_libraries/glowcomm\");}else{element.textContent = ' ';}"
      ],
      "text/plain": [
       "<IPython.core.display.Javascript object>"
      ]
     },
     "metadata": {},
     "output_type": "display_data"
    },
    {
     "data": {
      "application/javascript": [
       "if (typeof Jupyter !== \"undefined\") {require.undef(\"nbextensions/vpython_libraries/jquery-ui.custom.min\");}else{element.textContent = ' ';}"
      ],
      "text/plain": [
       "<IPython.core.display.Javascript object>"
      ]
     },
     "metadata": {},
     "output_type": "display_data"
    },
    {
     "data": {
      "application/javascript": [
       "if (typeof Jupyter !== \"undefined\") {require([\"nbextensions/vpython_libraries/glow.min\"], function(){console.log(\"GLOW LOADED\");});}else{element.textContent = ' ';}"
      ],
      "text/plain": [
       "<IPython.core.display.Javascript object>"
      ]
     },
     "metadata": {},
     "output_type": "display_data"
    },
    {
     "data": {
      "application/javascript": [
       "if (typeof Jupyter !== \"undefined\") {require([\"nbextensions/vpython_libraries/glowcomm\"], function(){console.log(\"GLOWCOMM LOADED\");});}else{element.textContent = ' ';}"
      ],
      "text/plain": [
       "<IPython.core.display.Javascript object>"
      ]
     },
     "metadata": {},
     "output_type": "display_data"
    },
    {
     "data": {
      "application/javascript": [
       "if (typeof Jupyter !== \"undefined\") {require([\"nbextensions/vpython_libraries/jquery-ui.custom.min\"], function(){console.log(\"JQUERY LOADED\");});}else{element.textContent = ' ';}"
      ],
      "text/plain": [
       "<IPython.core.display.Javascript object>"
      ]
     },
     "metadata": {},
     "output_type": "display_data"
    }
   ],
   "source": [
    "from vpython import *\n",
    "\n",
    "length = 0.8\n",
    "k1 = 2\n",
    "k2 = 3\n",
    "kk = 6\n",
    "m1 = 1\n",
    "m2 = 1.2\n",
    "t = 0\n",
    "dt = 0.001\n",
    "X1 = 0.2\n",
    "X2 = -0.1\n",
    "v1 = vec(0, 0, 0)\n",
    "v2 = vec(0, 0, 0)\n",
    "\n",
    "scene = canvas(title = \"cult's normal mode\", size = vec(800, 0, 400), x = 0, y = 0, background = vec(0.5, 0.6, 0.5))\n",
    "spring_mid= helix (pos = vec(-1*length/2 + X1, 0, 0), axis = vec(length - X1 + X2, 0, 0), radius = 0.05, color = color.red)\n",
    "spring1   = helix (pos = vec(-3*length/2, 0, 0),      axis = vec(length + X1, 0, 0),      radius = 0.05, color = color.green)\n",
    "spring2   = helix (pos = vec( 1*length/2 + X2, 0, 0), axis = vec(length - X2, 0, 0),      radius = 0.05, color = color.cyan)\n",
    "ball1     = sphere(pos = vec(spring_mid.pos.x, 0, 0), radius = 0.1, color = color.blue)\n",
    "ball2     = sphere(pos = vec(spring2.pos.x   , 0, 0), radius = 0.1, color = color.blue)\n",
    "wall1     = box  (pos = vec(-3*length/2 - 0.05,0 ,0), size = vec(0.1,1 ,0.3), color = color.white)\n",
    "wall2     = box  (pos = vec( 3*length/2 + 0.05,0 ,0), size = vec(0.1,1 ,0.3), color = color.white)\n",
    "_graph    = graph(title = \"x-t graph\", size = vec(800, 0, 400), x = 0, y = 410, xtitle = \"t (s)\", ytitle = \"posit. (red:ball-1, blue:ball-2)\")\n",
    "Xball1    = gcurve(graph = _graph, color = color.red )\n",
    "Xball2    = gcurve(graph = _graph, color = color.blue)\n",
    "\n",
    "\n",
    "\n",
    "while(t<30):\n",
    "    rate(1000)\n",
    "    ball1.a = vec((-k1 * (ball1.pos.x + length/2) + kk * (ball2.pos.x - ball1.pos.x - length)) / m1, 0, 0)\n",
    "    ball2.a = vec((-k2 * (ball2.pos.x - length/2) - kk * (ball2.pos.x - ball1.pos.x - length)) / m2, 0, 0)\n",
    "    v1 += ball1.a * dt\n",
    "    v2 += ball2.a * dt\n",
    "    ball1.pos += v1 * dt\n",
    "    ball2.pos += v2 * dt\n",
    "    spring_mid.pos = ball1.pos\n",
    "    spring2.pos    = ball2.pos\n",
    "    spring1.axis   = vec(ball1.pos.x + 3*length/2,  0, 0)\n",
    "    spring2.axis   = vec(3*length/2  - ball2.pos.x, 0, 0)\n",
    "    spring_mid.axis= vec(ball2.pos.x - ball1.pos.x, 0, 0)\n",
    "    Xball1.plot(pos = (t, ball1.pos.x + length/2))\n",
    "    Xball2.plot(pos = (t, ball2.pos.x - length/2))\n",
    "    t += dt\n",
    "    \n",
    "    "
   ]
  },
  {
   "cell_type": "code",
   "execution_count": 5,
   "metadata": {
    "scrolled": false
   },
   "outputs": [
    {
     "data": {
      "text/html": [
       "<div id=\"glowscript\" class=\"glowscript\"></div>"
      ],
      "text/plain": [
       "<IPython.core.display.HTML object>"
      ]
     },
     "metadata": {},
     "output_type": "display_data"
    },
    {
     "data": {
      "application/javascript": [
       "if (typeof Jupyter !== \"undefined\") { window.__context = { glowscript_container: $(\"#glowscript\").removeAttr(\"id\")};}else{ element.textContent = ' ';}"
      ],
      "text/plain": [
       "<IPython.core.display.Javascript object>"
      ]
     },
     "metadata": {},
     "output_type": "display_data"
    }
   ],
   "source": [
    "from vpython import *\n",
    "g = 9.8\n",
    "k = 10\n",
    "m = 5\n",
    "t = 0\n",
    "dt = 0.001\n",
    "length = 0.2\n",
    "XA0 = 0.15\n",
    "XB0 = -0.15\n",
    "\n",
    "XA = 0.155\n",
    "XB = -0.15\n",
    "\n",
    "\n",
    "scene = canvas(title = \"normal mode\", size = vec(800, 200, 800), x = 0, y = 0, background = vec(0.5, 0.6, 0.5))\n",
    "celling = box (pos = vec( 0, length-XA0/3, 0), size = vec(XA0-XB0+0.1 , 0.01,0.02), color = color.white)\n",
    "ball1 = sphere(pos = vec(XA, -XA/3,0),  v=vec(0, 0, 0), radius = 0.025, color = color.blue)\n",
    "ball2 = sphere(pos = vec(XB, -XA/3,0),  v=vec(0, 0, 0), radius = 0.025, color = color.blue)\n",
    "line1 = cylinder (pos = vec(XA0, length-XA0/3, 0), axis = ball1.pos-vec(XA0, length-XA0/3, 0), radius = 0.005, color = color.red)\n",
    "line2 = cylinder (pos = vec(XB0, length-XA0/3, 0), axis = ball2.pos-vec(XB0, length-XA0/3, 0), radius = 0.005, color = color.red)\n",
    "spring = helix(pos = vec(XA, -XA/3, 0), axis = vec(XB-XA,0,0) , radius=0.015, color = color.red)\n",
    "Xgraph = graph(title = \"x-t graph\", size = vec(800, 800, 400), x = 0, y = 410, xtitle = \"t (s)\", ytitle = \"pos (m)\")\n",
    "Xball1 = gcurve(graph = Xgraph, color = color.red )\n",
    "Xball2 = gcurve(graph = Xgraph, color = color.blue)\n",
    "\n",
    "while(t<40):\n",
    "    rate(1000)\n",
    "    ball1.a = -g/length*(ball1.pos.x-XA0) - k/m*(ball1.pos.x-XA0-ball2.pos.x+XB0)\n",
    "    ball2.a = -g/length*(ball2.pos.x-XB0) + k/m*(ball1.pos.x-XA0-ball2.pos.x+XB0)\n",
    "    ball1.v.x += ball1.a*dt\n",
    "    ball2.v.x += ball2.a*dt\n",
    "    ball1.pos += ball1.v*dt\n",
    "    ball2.pos += ball2.v*dt\n",
    "    line1.axis = ball1.pos-line1.pos\n",
    "    line2.axis = ball2.pos-line2.pos\n",
    "    spring.pos = ball1.pos\n",
    "    spring.axis = ball2.pos-ball1.pos\n",
    "    Xball1.plot(pos = (t, ball1.pos.x - XA0))\n",
    "    Xball2.plot(pos = (t, ball2.pos.x - XB0))\n",
    "    t+=dt\n",
    "    \n"
   ]
  },
  {
   "cell_type": "code",
   "execution_count": 6,
   "metadata": {
    "scrolled": false
   },
   "outputs": [
    {
     "data": {
      "text/html": [
       "<div id=\"glowscript\" class=\"glowscript\"></div>"
      ],
      "text/plain": [
       "<IPython.core.display.HTML object>"
      ]
     },
     "metadata": {},
     "output_type": "display_data"
    },
    {
     "data": {
      "application/javascript": [
       "if (typeof Jupyter !== \"undefined\") { window.__context = { glowscript_container: $(\"#glowscript\").removeAttr(\"id\")};}else{ element.textContent = ' ';}"
      ],
      "text/plain": [
       "<IPython.core.display.Javascript object>"
      ]
     },
     "metadata": {},
     "output_type": "display_data"
    }
   ],
   "source": [
    "from vpython import *\n",
    "k = 10\n",
    "m = 5\n",
    "t = 0\n",
    "dt = 0.001\n",
    "pi = 3.1415926\n",
    "R = 1\n",
    "N = 50\n",
    "\n",
    "scene = canvas(title = \"circularity oscillation\", size = vec(800, 200, 800), x = 0, y = 0, background = vec(0.5, 0.6, 0.5))\n",
    "nullb=sphere\n",
    "nullp=vec\n",
    "nulls=helix\n",
    "ball_list = [nullb]\n",
    "ballpos_list = [nullp]\n",
    "spring_list = [nulls]\n",
    "#ball = sphere(pos = vec(R*cos(2*pi/N), R*sin(2*pi/N),0),  v=vec(0, 0, 0), radius = 0.025, color = color.blue)\n",
    "for i in range(1,N+1):\n",
    "    #print(sin(3.1415926/2))\n",
    "    ball = sphere(pos = vec(R*cos(2*pi/N*i), R*sin(2*pi/N*i),0),  v=vec(0, 0, 0), radius = 0.02, color = color.blue)\n",
    "    ball_list.append(ball)\n",
    "    ballpos_list.append(vec(ball.pos))\n",
    "for j in range(1,N+1):\n",
    "    if(j==N):\n",
    "        spring=helix(pos = ball_list[j].pos, axis = ball_list[1].pos - ball_list[j].pos , radius=0.015, color=color.red)\n",
    "    else:\n",
    "        spring = helix(pos = ball_list[j].pos, axis = ball_list[j+1].pos - ball_list[j].pos , radius=0.015, color=color.red)\n",
    "    spring_list.append(spring)\n",
    "_graph = graph(color=color.blue)\n",
    "ball_list[1].pos = vec(R*cos(2.5*pi/N*1), R*sin(2.5*pi/N*1),0)\n",
    "\n",
    "while(t<40):\n",
    "    rate(1000)\n",
    "    ball_list[1].a = k/m*((ball_list[2].pos - ballpos_list[2])+(ball_list[N].pos - ballpos_list[N])-2*(ball_list[1].pos - ballpos_list[1]))\n",
    "    ball_list[1].v += ball_list[1].a*dt\n",
    "    ball_list[1].pos += ball_list[1].v*dt\n",
    "    spring_list[1].pos = ball_list[1].pos\n",
    "    spring_list[1].axis = ball_list[2].pos-ball_list[1].pos\n",
    "    for z in range(2,N):\n",
    "        ball_list[z].a = k/m*((ball_list[z+1].pos - ballpos_list[z+1])+(ball_list[z-1].pos - ballpos_list[z-1])-2*(ball_list[z].pos - ballpos_list[z]))\n",
    "        ball_list[z].v += ball_list[z].a*dt\n",
    "        ball_list[z].pos += ball_list[z].v*dt\n",
    "        spring_list[z].pos = ball_list[z].pos\n",
    "        spring_list[z].axis = ball_list[z+1].pos-ball_list[z].pos  \n",
    "    ball_list[N].a = k/m*((ball_list[1].pos - ballpos_list[1])+(ball_list[N-1].pos - ballpos_list[N-1])-2*(ball_list[N].pos - ballpos_list[N]))\n",
    "    ball_list[N].v += ball_list[N].a*dt\n",
    "    ball_list[N].pos += ball_list[N].v*dt\n",
    "    spring_list[N].pos = ball_list[N].pos\n",
    "    spring_list[N].axis = ball_list[1].pos-ball_list[N].pos\n",
    "    t += dt\n",
    "    \n",
    "    "
   ]
  },
  {
   "cell_type": "code",
   "execution_count": null,
   "metadata": {},
   "outputs": [],
   "source": []
  }
 ],
 "metadata": {
  "kernelspec": {
   "display_name": "Python 3 (ipykernel)",
   "language": "python",
   "name": "python3"
  },
  "language_info": {
   "codemirror_mode": {
    "name": "ipython",
    "version": 3
   },
   "file_extension": ".py",
   "mimetype": "text/x-python",
   "name": "python",
   "nbconvert_exporter": "python",
   "pygments_lexer": "ipython3",
   "version": "3.8.13"
  }
 },
 "nbformat": 4,
 "nbformat_minor": 4
}
