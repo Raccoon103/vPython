{
 "cells": [
  {
   "cell_type": "code",
   "execution_count": 1,
   "metadata": {
    "scrolled": false
   },
   "outputs": [
    {
     "data": {
      "text/html": [
       "<div id=\"glowscript\" class=\"glowscript\"></div>"
      ],
      "text/plain": [
       "<IPython.core.display.HTML object>"
      ]
     },
     "metadata": {},
     "output_type": "display_data"
    },
    {
     "data": {
      "application/javascript": [
       "if (typeof Jupyter !== \"undefined\") { window.__context = { glowscript_container: $(\"#glowscript\").removeAttr(\"id\")};}else{ element.textContent = ' ';}"
      ],
      "text/plain": [
       "<IPython.core.display.Javascript object>"
      ]
     },
     "metadata": {},
     "output_type": "display_data"
    },
    {
     "data": {
      "text/html": [
       "<div id=\"glowscript\" class=\"glowscript\"></div>"
      ],
      "text/plain": [
       "<IPython.core.display.HTML object>"
      ]
     },
     "metadata": {},
     "output_type": "display_data"
    },
    {
     "data": {
      "application/javascript": [
       "if (typeof Jupyter !== \"undefined\") { window.__context = { glowscript_container: $(\"#glowscript\").removeAttr(\"id\")};}else{ element.textContent = ' ';}"
      ],
      "text/plain": [
       "<IPython.core.display.Javascript object>"
      ]
     },
     "metadata": {},
     "output_type": "display_data"
    },
    {
     "data": {
      "application/javascript": [
       "if (typeof Jupyter !== \"undefined\") {require.undef(\"nbextensions/vpython_libraries/glow.min\");}else{element.textContent = ' ';}"
      ],
      "text/plain": [
       "<IPython.core.display.Javascript object>"
      ]
     },
     "metadata": {},
     "output_type": "display_data"
    },
    {
     "data": {
      "application/javascript": [
       "if (typeof Jupyter !== \"undefined\") {require.undef(\"nbextensions/vpython_libraries/glowcomm\");}else{element.textContent = ' ';}"
      ],
      "text/plain": [
       "<IPython.core.display.Javascript object>"
      ]
     },
     "metadata": {},
     "output_type": "display_data"
    },
    {
     "data": {
      "application/javascript": [
       "if (typeof Jupyter !== \"undefined\") {require.undef(\"nbextensions/vpython_libraries/jquery-ui.custom.min\");}else{element.textContent = ' ';}"
      ],
      "text/plain": [
       "<IPython.core.display.Javascript object>"
      ]
     },
     "metadata": {},
     "output_type": "display_data"
    },
    {
     "data": {
      "application/javascript": [
       "if (typeof Jupyter !== \"undefined\") {require([\"nbextensions/vpython_libraries/glow.min\"], function(){console.log(\"GLOW LOADED\");});}else{element.textContent = ' ';}"
      ],
      "text/plain": [
       "<IPython.core.display.Javascript object>"
      ]
     },
     "metadata": {},
     "output_type": "display_data"
    },
    {
     "data": {
      "application/javascript": [
       "if (typeof Jupyter !== \"undefined\") {require([\"nbextensions/vpython_libraries/glowcomm\"], function(){console.log(\"GLOWCOMM LOADED\");});}else{element.textContent = ' ';}"
      ],
      "text/plain": [
       "<IPython.core.display.Javascript object>"
      ]
     },
     "metadata": {},
     "output_type": "display_data"
    },
    {
     "data": {
      "application/javascript": [
       "if (typeof Jupyter !== \"undefined\") {require([\"nbextensions/vpython_libraries/jquery-ui.custom.min\"], function(){console.log(\"JQUERY LOADED\");});}else{element.textContent = ' ';}"
      ],
      "text/plain": [
       "<IPython.core.display.Javascript object>"
      ]
     },
     "metadata": {},
     "output_type": "display_data"
    }
   ],
   "source": [
    "from vpython import *\n",
    "import random as rd\n",
    "import math as th\n",
    "\n",
    "N=200\n",
    "\n",
    "scene = canvas(title = \"Opentube\", size = vec(800, 200, 800), x = 0, y = 0, background = vec(0.5, 0.6, 0.5))\n",
    "tube=[]\n",
    "for i in range(400):\n",
    "    tube.append(ring(pos = vec(-5+0.025*i, 0, 0),radius=0.5, thickness=0.05, opacity=0.2))\n",
    "#tube = ring(pos = vec(0, 0, 0),radius=1, thickness=0.1, color=vec(1,0,0))\n",
    "randompos=[[0]*3 for k in range(N)]\n",
    "masspoint=[]\n",
    "masspointoriX=[]\n",
    "for j in range(N):\n",
    "    randompos[j][0]=rd.uniform(-5,5)\n",
    "    randompos[j][1]=rd.uniform(-0,0)\n",
    "    randompos[j][2]=rd.uniform(-0,0)\n",
    "    masspoint.append(sphere(pos=vec(randompos[j][0], randompos[j][1], randompos[j][2]),radius=0.02,color=color.black))\n",
    "    masspointoriX.append(masspoint[j].pos.x)\n",
    "#masspoint = sphere(pos=vec(rd.uniform(-5, 5), 0, 0),radius=0.05)\n",
    "#print(th.sin(masspointoriX[2]))\n",
    "_graph = graph(title = \"Displacement graph\", size = vec(800, 0, 400), x = 0, y = 400, xtitle = \"x\", ytitle = \"d\")\n",
    "dp = gcurve(graph = _graph, color = color.red )\n",
    "\n",
    "t=0\n",
    "dt=0.01\n",
    "X0=0.5\n",
    "k=0.314\n",
    "w=0.05\n",
    "while(t<300):\n",
    "    rate(1000)\n",
    "    for p in range(N):\n",
    "        masspoint[p].pos.x = masspointoriX[p] + X0*th.sin(k*(masspointoriX[p]+5)-w*t) + X0*th.sin(k*(masspointoriX[p]+5)+w*t)\n",
    "        \n",
    "        #dp.plot(pos=(masspointoriX[p],masspoint[p].pos.x-masspointoriX[p]))\n",
    "    t+=dt"
   ]
  },
  {
   "cell_type": "code",
   "execution_count": null,
   "metadata": {},
   "outputs": [],
   "source": []
  },
  {
   "cell_type": "code",
   "execution_count": null,
   "metadata": {},
   "outputs": [],
   "source": []
  }
 ],
 "metadata": {
  "kernelspec": {
   "display_name": "Python 3 (ipykernel)",
   "language": "python",
   "name": "python3"
  },
  "language_info": {
   "codemirror_mode": {
    "name": "ipython",
    "version": 3
   },
   "file_extension": ".py",
   "mimetype": "text/x-python",
   "name": "python",
   "nbconvert_exporter": "python",
   "pygments_lexer": "ipython3",
   "version": "3.8.13"
  }
 },
 "nbformat": 4,
 "nbformat_minor": 4
}
